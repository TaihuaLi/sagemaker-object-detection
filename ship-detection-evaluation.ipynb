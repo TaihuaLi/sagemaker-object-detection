{
 "cells": [
  {
   "cell_type": "markdown",
   "metadata": {},
   "source": [
    "**Evaluation metric: mean average F-2 score**\n",
    "\n",
    "[Evaluation rule](https://www.kaggle.com/c/airbus-ship-detection#evaluation) explained by Kaggle."
   ]
  },
  {
   "cell_type": "code",
   "execution_count": 2,
   "metadata": {},
   "outputs": [],
   "source": [
    "import json\n",
    "import boto3\n",
    "import pandas as pd\n",
    "from tqdm import tqdm_notebook\n",
    "from itertools import combinations"
   ]
  },
  {
   "cell_type": "code",
   "execution_count": 3,
   "metadata": {},
   "outputs": [],
   "source": [
    "bucket_name = 'object-detection-airbus-dataset'\n",
    "true_folder = 'validation_annotation'\n",
    "pred_folder = 'validation_prediction'"
   ]
  },
  {
   "cell_type": "code",
   "execution_count": 4,
   "metadata": {},
   "outputs": [],
   "source": [
    "s3 = boto3.resource('s3')\n",
    "bucket = s3.Bucket(bucket_name)"
   ]
  },
  {
   "cell_type": "code",
   "execution_count": 5,
   "metadata": {},
   "outputs": [],
   "source": [
    "# source: http://ronny.rest/tutorials/module/localization_001/iou/\n",
    "def get_iou(a, b, epsilon=1e-5):\n",
    "    \"\"\" Given two boxes `a` and `b` defined as a list of four numbers:\n",
    "            [x1,y1,x2,y2]\n",
    "        where:\n",
    "            x1,y1 represent the upper left corner\n",
    "            x2,y2 represent the lower right corner\n",
    "        It returns the Intersect of Union score for these two boxes.\n",
    "\n",
    "    Args:\n",
    "        a:          (list of 4 numbers) [x1,y1,x2,y2]\n",
    "        b:          (list of 4 numbers) [x1,y1,x2,y2]\n",
    "        epsilon:    (float) Small value to prevent division by zero\n",
    "\n",
    "    Returns:\n",
    "        (float) The Intersect of Union score.\n",
    "    \"\"\"\n",
    "    # COORDINATES OF THE INTERSECTION BOX\n",
    "    x1 = max(a[0], b[0])\n",
    "    y1 = max(a[1], b[1])\n",
    "    x2 = min(a[2], b[2])\n",
    "    y2 = min(a[3], b[3])\n",
    "\n",
    "    # AREA OF OVERLAP - Area where the boxes intersect\n",
    "    width = (x2 - x1)\n",
    "    height = (y2 - y1)\n",
    "    # handle case where there is NO overlap\n",
    "    if (width<0) or (height <0):\n",
    "        return 0.0\n",
    "    area_overlap = width * height\n",
    "\n",
    "    # COMBINED AREA\n",
    "    area_a = (a[2] - a[0]) * (a[3] - a[1])\n",
    "    area_b = (b[2] - b[0]) * (b[3] - b[1])\n",
    "    area_combined = area_a + area_b - area_overlap\n",
    "\n",
    "    # RATIO OF AREA OF OVERLAP OVER COMBINED AREA\n",
    "    iou = area_overlap / (area_combined+epsilon)\n",
    "    return iou\n",
    "\n",
    "def get_json(file_name):\n",
    "    \"\"\"get json object from s3\"\"\"\n",
    "    return json.load(bucket.Object(file_name).get()['Body'])"
   ]
  },
  {
   "cell_type": "markdown",
   "metadata": {},
   "source": [
    "**Get Prediction Filenames**\n"
   ]
  },
  {
   "cell_type": "code",
   "execution_count": 6,
   "metadata": {},
   "outputs": [],
   "source": [
    "true_bucket = bucket.objects.filter(Prefix=true_folder)\n",
    "pred_bucket = bucket.objects.filter(Prefix=pred_folder)"
   ]
  },
  {
   "cell_type": "code",
   "execution_count": 7,
   "metadata": {
    "scrolled": true
   },
   "outputs": [],
   "source": [
    "true_arr, pred_arr = [], []\n",
    "\n",
    "for chunk in true_bucket.pages():\n",
    "    true_arr.extend([x.key for x in chunk])\n",
    "\n",
    "for chunk in pred_bucket.pages():\n",
    "    pred_arr.extend([x.key for x in chunk])"
   ]
  },
  {
   "cell_type": "markdown",
   "metadata": {},
   "source": [
    "sanity check"
   ]
  },
  {
   "cell_type": "code",
   "execution_count": 8,
   "metadata": {},
   "outputs": [
    {
     "data": {
      "text/plain": [
       "(10639, 10639)"
      ]
     },
     "execution_count": 8,
     "metadata": {},
     "output_type": "execute_result"
    }
   ],
   "source": [
    "len(true_arr), len(pred_arr)"
   ]
  },
  {
   "cell_type": "code",
   "execution_count": 9,
   "metadata": {},
   "outputs": [
    {
     "data": {
      "text/plain": [
       "True"
      ]
     },
     "execution_count": 9,
     "metadata": {},
     "output_type": "execute_result"
    }
   ],
   "source": [
    "sorted([x.split('/')[1] for x in true_arr]) == sorted([x.split('/')[1] for x in pred_arr])"
   ]
  },
  {
   "cell_type": "code",
   "execution_count": 10,
   "metadata": {},
   "outputs": [],
   "source": [
    "img_list = [x.split('/')[1] for x in true_arr]"
   ]
  },
  {
   "cell_type": "markdown",
   "metadata": {},
   "source": [
    "**calculate IoU per Image**"
   ]
  },
  {
   "cell_type": "code",
   "execution_count": 12,
   "metadata": {},
   "outputs": [
    {
     "data": {
      "text/plain": [
       "{'file': '000532683.jpg',\n",
       " 'image_size': [{'width': 768, 'height': 768, 'depth': 3}],\n",
       " 'predictions': [{'class_id': 0.0,\n",
       "   'score': 0.6680644750595093,\n",
       "   'top': 756,\n",
       "   'left': 740,\n",
       "   'width': 16,\n",
       "   'height': 9},\n",
       "  {'class_id': 0.0,\n",
       "   'score': 0.41235649585723877,\n",
       "   'top': 459,\n",
       "   'left': 597,\n",
       "   'width': 8,\n",
       "   'height': 17}]}"
      ]
     },
     "execution_count": 12,
     "metadata": {},
     "output_type": "execute_result"
    }
   ],
   "source": [
    "get_json(file_name='validation_prediction/{}'.format(img_list[0]))"
   ]
  },
  {
   "cell_type": "code",
   "execution_count": 13,
   "metadata": {},
   "outputs": [
    {
     "data": {
      "application/vnd.jupyter.widget-view+json": {
       "model_id": "5652d45c59554139887c1e0528cfdfbd",
       "version_major": 2,
       "version_minor": 0
      },
      "text/plain": [
       "HBox(children=(IntProgress(value=0, max=10639), HTML(value='')))"
      ]
     },
     "metadata": {},
     "output_type": "display_data"
    },
    {
     "name": "stdout",
     "output_type": "stream",
     "text": [
      "\n"
     ]
    }
   ],
   "source": [
    "to_eval = []\n",
    "for img_name in tqdm_notebook(img_list):\n",
    "\n",
    "    pred_lst = get_json(file_name=f'validation_prediction/{img_name}')['predictions']\n",
    "    true_lst = get_json(file_name=f'validation_annotation/{img_name}')['annotations']\n",
    "    \n",
    "    for i in pred_lst:\n",
    "        confidence = i['score']\n",
    "        pred_bbox = [i['top'], i['left'], i['left']+i['width'], i['top']+i['height']]\n",
    "        for j in true_lst:\n",
    "            true_bbox = [i['top'], i['left'], i['left']+i['width'], i['top']+i['height']]\n",
    "            to_eval.append([img_name, confidence, true_bbox, pred_bbox])"
   ]
  },
  {
   "cell_type": "code",
   "execution_count": 14,
   "metadata": {},
   "outputs": [],
   "source": [
    "to_eval = pd.DataFrame(to_eval, columns=['img', 'confidence', 'true_bbox', 'pred_bbox'])"
   ]
  },
  {
   "cell_type": "code",
   "execution_count": 25,
   "metadata": {},
   "outputs": [],
   "source": [
    "to_eval['iou'] = to_eval.apply(lambda x: get_iou(x['true_bbox'], x['pred_bbox']), 1)"
   ]
  },
  {
   "cell_type": "code",
   "execution_count": 28,
   "metadata": {},
   "outputs": [
    {
     "data": {
      "text/html": [
       "<div>\n",
       "<style scoped>\n",
       "    .dataframe tbody tr th:only-of-type {\n",
       "        vertical-align: middle;\n",
       "    }\n",
       "\n",
       "    .dataframe tbody tr th {\n",
       "        vertical-align: top;\n",
       "    }\n",
       "\n",
       "    .dataframe thead th {\n",
       "        text-align: right;\n",
       "    }\n",
       "</style>\n",
       "<table border=\"1\" class=\"dataframe\">\n",
       "  <thead>\n",
       "    <tr style=\"text-align: right;\">\n",
       "      <th></th>\n",
       "      <th>img</th>\n",
       "      <th>confidence</th>\n",
       "      <th>true_bbox</th>\n",
       "      <th>pred_bbox</th>\n",
       "      <th>iou</th>\n",
       "    </tr>\n",
       "  </thead>\n",
       "  <tbody>\n",
       "    <tr>\n",
       "      <th>0</th>\n",
       "      <td>000532683.json</td>\n",
       "      <td>0.668064</td>\n",
       "      <td>[756, 740, 756, 765]</td>\n",
       "      <td>[756, 740, 756, 765]</td>\n",
       "      <td>0.0</td>\n",
       "    </tr>\n",
       "    <tr>\n",
       "      <th>1</th>\n",
       "      <td>000532683.json</td>\n",
       "      <td>0.668064</td>\n",
       "      <td>[756, 740, 756, 765]</td>\n",
       "      <td>[756, 740, 756, 765]</td>\n",
       "      <td>0.0</td>\n",
       "    </tr>\n",
       "    <tr>\n",
       "      <th>2</th>\n",
       "      <td>000532683.json</td>\n",
       "      <td>0.412356</td>\n",
       "      <td>[459, 597, 605, 476]</td>\n",
       "      <td>[459, 597, 605, 476]</td>\n",
       "      <td>0.0</td>\n",
       "    </tr>\n",
       "    <tr>\n",
       "      <th>3</th>\n",
       "      <td>000532683.json</td>\n",
       "      <td>0.412356</td>\n",
       "      <td>[459, 597, 605, 476]</td>\n",
       "      <td>[459, 597, 605, 476]</td>\n",
       "      <td>0.0</td>\n",
       "    </tr>\n",
       "    <tr>\n",
       "      <th>4</th>\n",
       "      <td>001234638.json</td>\n",
       "      <td>0.999920</td>\n",
       "      <td>[406, 176, 321, 530]</td>\n",
       "      <td>[406, 176, 321, 530]</td>\n",
       "      <td>0.0</td>\n",
       "    </tr>\n",
       "    <tr>\n",
       "      <th>5</th>\n",
       "      <td>0018e5d6c.json</td>\n",
       "      <td>0.999981</td>\n",
       "      <td>[120, 62, 357, 211]</td>\n",
       "      <td>[120, 62, 357, 211]</td>\n",
       "      <td>1.0</td>\n",
       "    </tr>\n",
       "    <tr>\n",
       "      <th>6</th>\n",
       "      <td>001aee007.json</td>\n",
       "      <td>0.999990</td>\n",
       "      <td>[542, 540, 608, 623]</td>\n",
       "      <td>[542, 540, 608, 623]</td>\n",
       "      <td>1.0</td>\n",
       "    </tr>\n",
       "    <tr>\n",
       "      <th>7</th>\n",
       "      <td>001aee007.json</td>\n",
       "      <td>0.999990</td>\n",
       "      <td>[542, 540, 608, 623]</td>\n",
       "      <td>[542, 540, 608, 623]</td>\n",
       "      <td>1.0</td>\n",
       "    </tr>\n",
       "    <tr>\n",
       "      <th>8</th>\n",
       "      <td>001aee007.json</td>\n",
       "      <td>0.999990</td>\n",
       "      <td>[542, 540, 608, 623]</td>\n",
       "      <td>[542, 540, 608, 623]</td>\n",
       "      <td>1.0</td>\n",
       "    </tr>\n",
       "    <tr>\n",
       "      <th>9</th>\n",
       "      <td>001aee007.json</td>\n",
       "      <td>0.999990</td>\n",
       "      <td>[542, 540, 608, 623]</td>\n",
       "      <td>[542, 540, 608, 623]</td>\n",
       "      <td>1.0</td>\n",
       "    </tr>\n",
       "    <tr>\n",
       "      <th>10</th>\n",
       "      <td>001aee007.json</td>\n",
       "      <td>0.999974</td>\n",
       "      <td>[62, 647, 767, 201]</td>\n",
       "      <td>[62, 647, 767, 201]</td>\n",
       "      <td>0.0</td>\n",
       "    </tr>\n",
       "    <tr>\n",
       "      <th>11</th>\n",
       "      <td>001aee007.json</td>\n",
       "      <td>0.999974</td>\n",
       "      <td>[62, 647, 767, 201]</td>\n",
       "      <td>[62, 647, 767, 201]</td>\n",
       "      <td>0.0</td>\n",
       "    </tr>\n",
       "    <tr>\n",
       "      <th>12</th>\n",
       "      <td>001aee007.json</td>\n",
       "      <td>0.999974</td>\n",
       "      <td>[62, 647, 767, 201]</td>\n",
       "      <td>[62, 647, 767, 201]</td>\n",
       "      <td>0.0</td>\n",
       "    </tr>\n",
       "    <tr>\n",
       "      <th>13</th>\n",
       "      <td>001aee007.json</td>\n",
       "      <td>0.999974</td>\n",
       "      <td>[62, 647, 767, 201]</td>\n",
       "      <td>[62, 647, 767, 201]</td>\n",
       "      <td>0.0</td>\n",
       "    </tr>\n",
       "    <tr>\n",
       "      <th>14</th>\n",
       "      <td>001aee007.json</td>\n",
       "      <td>0.999837</td>\n",
       "      <td>[709, 313, 383, 767]</td>\n",
       "      <td>[709, 313, 383, 767]</td>\n",
       "      <td>0.0</td>\n",
       "    </tr>\n",
       "    <tr>\n",
       "      <th>15</th>\n",
       "      <td>001aee007.json</td>\n",
       "      <td>0.999837</td>\n",
       "      <td>[709, 313, 383, 767]</td>\n",
       "      <td>[709, 313, 383, 767]</td>\n",
       "      <td>0.0</td>\n",
       "    </tr>\n",
       "    <tr>\n",
       "      <th>16</th>\n",
       "      <td>001aee007.json</td>\n",
       "      <td>0.999837</td>\n",
       "      <td>[709, 313, 383, 767]</td>\n",
       "      <td>[709, 313, 383, 767]</td>\n",
       "      <td>0.0</td>\n",
       "    </tr>\n",
       "    <tr>\n",
       "      <th>17</th>\n",
       "      <td>001aee007.json</td>\n",
       "      <td>0.999837</td>\n",
       "      <td>[709, 313, 383, 767]</td>\n",
       "      <td>[709, 313, 383, 767]</td>\n",
       "      <td>0.0</td>\n",
       "    </tr>\n",
       "    <tr>\n",
       "      <th>18</th>\n",
       "      <td>001aee007.json</td>\n",
       "      <td>0.791712</td>\n",
       "      <td>[58, 271, 325, 112]</td>\n",
       "      <td>[58, 271, 325, 112]</td>\n",
       "      <td>0.0</td>\n",
       "    </tr>\n",
       "    <tr>\n",
       "      <th>19</th>\n",
       "      <td>001aee007.json</td>\n",
       "      <td>0.791712</td>\n",
       "      <td>[58, 271, 325, 112]</td>\n",
       "      <td>[58, 271, 325, 112]</td>\n",
       "      <td>0.0</td>\n",
       "    </tr>\n",
       "  </tbody>\n",
       "</table>\n",
       "</div>"
      ],
      "text/plain": [
       "               img  confidence             true_bbox             pred_bbox  \\\n",
       "0   000532683.json    0.668064  [756, 740, 756, 765]  [756, 740, 756, 765]   \n",
       "1   000532683.json    0.668064  [756, 740, 756, 765]  [756, 740, 756, 765]   \n",
       "2   000532683.json    0.412356  [459, 597, 605, 476]  [459, 597, 605, 476]   \n",
       "3   000532683.json    0.412356  [459, 597, 605, 476]  [459, 597, 605, 476]   \n",
       "4   001234638.json    0.999920  [406, 176, 321, 530]  [406, 176, 321, 530]   \n",
       "5   0018e5d6c.json    0.999981   [120, 62, 357, 211]   [120, 62, 357, 211]   \n",
       "6   001aee007.json    0.999990  [542, 540, 608, 623]  [542, 540, 608, 623]   \n",
       "7   001aee007.json    0.999990  [542, 540, 608, 623]  [542, 540, 608, 623]   \n",
       "8   001aee007.json    0.999990  [542, 540, 608, 623]  [542, 540, 608, 623]   \n",
       "9   001aee007.json    0.999990  [542, 540, 608, 623]  [542, 540, 608, 623]   \n",
       "10  001aee007.json    0.999974   [62, 647, 767, 201]   [62, 647, 767, 201]   \n",
       "11  001aee007.json    0.999974   [62, 647, 767, 201]   [62, 647, 767, 201]   \n",
       "12  001aee007.json    0.999974   [62, 647, 767, 201]   [62, 647, 767, 201]   \n",
       "13  001aee007.json    0.999974   [62, 647, 767, 201]   [62, 647, 767, 201]   \n",
       "14  001aee007.json    0.999837  [709, 313, 383, 767]  [709, 313, 383, 767]   \n",
       "15  001aee007.json    0.999837  [709, 313, 383, 767]  [709, 313, 383, 767]   \n",
       "16  001aee007.json    0.999837  [709, 313, 383, 767]  [709, 313, 383, 767]   \n",
       "17  001aee007.json    0.999837  [709, 313, 383, 767]  [709, 313, 383, 767]   \n",
       "18  001aee007.json    0.791712   [58, 271, 325, 112]   [58, 271, 325, 112]   \n",
       "19  001aee007.json    0.791712   [58, 271, 325, 112]   [58, 271, 325, 112]   \n",
       "\n",
       "    iou  \n",
       "0   0.0  \n",
       "1   0.0  \n",
       "2   0.0  \n",
       "3   0.0  \n",
       "4   0.0  \n",
       "5   1.0  \n",
       "6   1.0  \n",
       "7   1.0  \n",
       "8   1.0  \n",
       "9   1.0  \n",
       "10  0.0  \n",
       "11  0.0  \n",
       "12  0.0  \n",
       "13  0.0  \n",
       "14  0.0  \n",
       "15  0.0  \n",
       "16  0.0  \n",
       "17  0.0  \n",
       "18  0.0  \n",
       "19  0.0  "
      ]
     },
     "execution_count": 28,
     "metadata": {},
     "output_type": "execute_result"
    }
   ],
   "source": [
    "to_eval[:20]"
   ]
  },
  {
   "cell_type": "code",
   "execution_count": null,
   "metadata": {},
   "outputs": [],
   "source": []
  },
  {
   "cell_type": "code",
   "execution_count": null,
   "metadata": {},
   "outputs": [],
   "source": []
  },
  {
   "cell_type": "code",
   "execution_count": null,
   "metadata": {},
   "outputs": [],
   "source": []
  },
  {
   "cell_type": "code",
   "execution_count": null,
   "metadata": {},
   "outputs": [],
   "source": []
  },
  {
   "cell_type": "code",
   "execution_count": null,
   "metadata": {},
   "outputs": [],
   "source": []
  },
  {
   "cell_type": "code",
   "execution_count": null,
   "metadata": {},
   "outputs": [],
   "source": []
  },
  {
   "cell_type": "code",
   "execution_count": null,
   "metadata": {},
   "outputs": [],
   "source": []
  }
 ],
 "metadata": {
  "kernelspec": {
   "display_name": "conda_python3",
   "language": "python",
   "name": "conda_python3"
  },
  "language_info": {
   "codemirror_mode": {
    "name": "ipython",
    "version": 3
   },
   "file_extension": ".py",
   "mimetype": "text/x-python",
   "name": "python",
   "nbconvert_exporter": "python",
   "pygments_lexer": "ipython3",
   "version": "3.6.5"
  }
 },
 "nbformat": 4,
 "nbformat_minor": 2
}
